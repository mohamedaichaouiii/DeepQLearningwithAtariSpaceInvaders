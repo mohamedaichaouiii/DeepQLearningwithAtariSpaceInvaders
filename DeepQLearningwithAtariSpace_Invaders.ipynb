{
  "nbformat": 4,
  "nbformat_minor": 0,
  "metadata": {
    "colab": {
      "provenance": [],
      "authorship_tag": "ABX9TyPvvmYXUIanKjxk7TQBmxpP",
      "include_colab_link": true
    },
    "kernelspec": {
      "name": "python3",
      "display_name": "Python 3"
    },
    "language_info": {
      "name": "python"
    }
  },
  "cells": [
    {
      "cell_type": "markdown",
      "metadata": {
        "id": "view-in-github",
        "colab_type": "text"
      },
      "source": [
        "<a href=\"https://colab.research.google.com/github/mohamedaichaouiii/DeepQLearningwithAtariSpaceInvaders/blob/main/DeepQLearningwithAtariSpace_Invaders.ipynb\" target=\"_parent\"><img src=\"https://colab.research.google.com/assets/colab-badge.svg\" alt=\"Open In Colab\"/></a>"
      ]
    },
    {
      "cell_type": "markdown",
      "source": [
        "Deep Q Learning with Atari© Space Invaders©\n",
        "\n",
        "\n",
        "In this notebook we'll implement an agent that learns to play Atari© Space Invaders© using OpenAI retro as environment library.\n"
      ],
      "metadata": {
        "id": "GBR1bQ8G0B1V"
      }
    },
    {
      "cell_type": "markdown",
      "source": [],
      "metadata": {
        "id": "bPLoOBc-1i-t"
      }
    },
    {
      "cell_type": "markdown",
      "source": [
        "Step 1: Import the libraries"
      ],
      "metadata": {
        "id": "N1GFpt4X0lAk"
      }
    },
    {
      "cell_type": "code",
      "source": [
        "import tensorflow as tf      # Deep Learning library\n",
        "import numpy as np           # Handle matrices\n",
        "import retro                 # Retro Environment\n",
        "\n",
        "\n",
        "from skimage import transform # Help us to preprocess the frames\n",
        "from skimage.color import rgb2gray # Help us to gray our frames\n",
        "\n",
        "import matplotlib.pyplot as plt # Display graphs\n",
        "\n",
        "from collections import deque# Ordered collection with ends\n",
        "\n",
        "import random\n",
        "\n",
        "import warnings # This ignore all the warning messages that are normally printed during the training because of skiimage\n",
        "warnings.filterwarnings('ignore')"
      ],
      "metadata": {
        "id": "Kma94PL22k7z"
      },
      "execution_count": null,
      "outputs": []
    },
    {
      "cell_type": "markdown",
      "source": [
        "Step 2: Create the environment"
      ],
      "metadata": {
        "id": "6dZReujW2mOd"
      }
    },
    {
      "cell_type": "code",
      "source": [
        "env = retro.make(game='SpaceInvaders-Atari2600')\n",
        "\n",
        "print(\"The size of our frame is: \", env.observation_space)\n",
        "print(\"The action size is : \", env.action_space.n)\n",
        "\n",
        "# Here we create an hot encoded version of our actions\n",
        "# possible_actions = [[1, 0, 0, 0, 0, 0, 0, 0], [0, 1, 0, 0, 0, 0, 0, 0, 0]...]\n",
        "possible_actions = np.array(np.identity(env.action_space.n,dtype=int).tolist())"
      ],
      "metadata": {
        "id": "VrJ7UuoE2rau"
      },
      "execution_count": null,
      "outputs": []
    },
    {
      "cell_type": "markdown",
      "source": [
        "Step 3 : Define the preprocessing functions"
      ],
      "metadata": {
        "id": "KVwiXZRu3DKE"
      }
    },
    {
      "cell_type": "code",
      "source": [
        "def preprocess_frame(frame):\n",
        "    # Greyscale frame\n",
        "    gray = rgb2gray(frame)\n",
        "\n",
        "    # Crop the screen (remove the part below the player)\n",
        "    # [Up: Down, Left: right]\n",
        "    cropped_frame = gray[8:-12,4:-12]\n",
        "\n",
        "    # Normalize Pixel Values\n",
        "    normalized_frame = cropped_frame/255.0\n",
        "\n",
        "    # Resize\n",
        "\n",
        "    preprocessed_frame = transform.resize(normalized_frame, [110,84])\n",
        "\n",
        "    return preprocessed_frame # 110x84x1 frame"
      ],
      "metadata": {
        "id": "QVOzpZXu3G0K"
      },
      "execution_count": null,
      "outputs": []
    },
    {
      "cell_type": "markdown",
      "source": [
        "Step 4: Set up our hyperparameters"
      ],
      "metadata": {
        "id": "--jw_fgF3cmp"
      }
    },
    {
      "cell_type": "code",
      "source": [
        "### MODEL HYPERPARAMETERS\n",
        "state_size = [110, 84, 4]      # Our input is a stack of 4 frames hence 110x84x4 (Width, height, channels)\n",
        "action_size = env.action_space.n # 8 possible actions\n",
        "learning_rate =  0.00025      # Alpha (aka learning rate)\n",
        "\n",
        "### TRAINING HYPERPARAMETERS\n",
        "total_episodes = 50            # Total episodes for training\n",
        "max_steps = 50000              # Max possible steps in an episode\n",
        "batch_size = 64                # Batch size\n",
        "\n",
        "# Exploration parameters for epsilon greedy strategy\n",
        "explore_start = 1.0            # exploration probability at start\n",
        "explore_stop = 0.01            # minimum exploration probability\n",
        "decay_rate = 0.00001           # exponential decay rate for exploration prob\n",
        "\n",
        "# Q learning hyperparameters\n",
        "gamma = 0.9                    # Discounting rate\n",
        "\n",
        "### MEMORY HYPERPARAMETERS\n",
        "pretrain_length = batch_size   # Number of experiences stored in the Memory when initialized for the first time\n",
        "memory_size = 1000000          # Number of experiences the Memory can keep\n",
        "\n",
        "### PREPROCESSING HYPERPARAMETERS\n",
        "stack_size = 4                 # Number of frames stacked\n",
        "\n",
        "### MODIFY THIS TO FALSE IF YOU JUST WANT TO SEE THE TRAINED AGENT\n",
        "training = False\n",
        "\n",
        "## TURN THIS TO TRUE IF YOU WANT TO RENDER THE ENVIRONMENT\n",
        "episode_render = False"
      ],
      "metadata": {
        "id": "xJnLUzNU3hlD"
      },
      "execution_count": null,
      "outputs": []
    },
    {
      "cell_type": "markdown",
      "source": [
        "Step 5: Create the Deep Q-learning Neural Network model"
      ],
      "metadata": {
        "id": "qOnJfag43nhu"
      }
    },
    {
      "cell_type": "code",
      "source": [
        "class DQNetwork:\n",
        "    def __init__(self, state_size, action_size, learning_rate, name='DQNetwork'):\n",
        "        self.state_size = state_size\n",
        "        self.action_size = action_size\n",
        "        self.learning_rate = learning_rate\n",
        "\n",
        "        with tf.variable_scope(name):\n",
        "            # We create the placeholders\n",
        "            # *state_size means that we take each elements of state_size in tuple hence is like if we wrote\n",
        "            # [None, 84, 84, 4]\n",
        "            self.inputs_ = tf.placeholder(tf.float32, [None, *state_size], name=\"inputs\")\n",
        "            self.actions_ = tf.placeholder(tf.float32, [None, self.action_size], name=\"actions_\")\n",
        "\n",
        "            # Remember that target_Q is the R(s,a) + ymax Qhat(s', a')\n",
        "            self.target_Q = tf.placeholder(tf.float32, [None], name=\"target\")\n",
        "\n",
        "            \"\"\"\n",
        "            First convnet:\n",
        "            CNN\n",
        "            ELU\n",
        "            \"\"\"\n",
        "            # Input is 110x84x4\n",
        "            self.conv1 = tf.layers.conv2d(inputs = self.inputs_,\n",
        "                                         filters = 32,\n",
        "                                         kernel_size = [8,8],\n",
        "                                         strides = [4,4],\n",
        "                                         padding = \"VALID\",\n",
        "                                          kernel_initializer=tf.contrib.layers.xavier_initializer_conv2d(),\n",
        "                                         name = \"conv1\")\n",
        "\n",
        "            self.conv1_out = tf.nn.elu(self.conv1, name=\"conv1_out\")\n",
        "\n",
        "            \"\"\"\n",
        "            Second convnet:\n",
        "            CNN\n",
        "            ELU\n",
        "            \"\"\"\n",
        "            self.conv2 = tf.layers.conv2d(inputs = self.conv1_out,\n",
        "                                 filters = 64,\n",
        "                                 kernel_size = [4,4],\n",
        "                                 strides = [2,2],\n",
        "                                 padding = \"VALID\",\n",
        "                                kernel_initializer=tf.contrib.layers.xavier_initializer_conv2d(),\n",
        "                                 name = \"conv2\")\n",
        "\n",
        "            self.conv2_out = tf.nn.elu(self.conv2, name=\"conv2_out\")\n",
        "\n",
        "            \"\"\"\n",
        "            Third convnet:\n",
        "            CNN\n",
        "            ELU\n",
        "            \"\"\"\n",
        "            self.conv3 = tf.layers.conv2d(inputs = self.conv2_out,\n",
        "                                 filters = 64,\n",
        "                                 kernel_size = [3,3],\n",
        "                                 strides = [2,2],\n",
        "                                 padding = \"VALID\",\n",
        "                                kernel_initializer=tf.contrib.layers.xavier_initializer_conv2d(),\n",
        "                                 name = \"conv3\")\n",
        "\n",
        "            self.conv3_out = tf.nn.elu(self.conv3, name=\"conv3_out\")\n",
        "\n",
        "            self.flatten = tf.contrib.layers.flatten(self.conv3_out)\n",
        "\n",
        "            self.fc = tf.layers.dense(inputs = self.flatten,\n",
        "                                  units = 512,\n",
        "                                  activation = tf.nn.elu,\n",
        "                                       kernel_initializer=tf.contrib.layers.xavier_initializer(),\n",
        "                                name=\"fc1\")\n",
        "\n",
        "            self.output = tf.layers.dense(inputs = self.fc,\n",
        "                                           kernel_initializer=tf.contrib.layers.xavier_initializer(),\n",
        "                                          units = self.action_size,\n",
        "                                        activation=None)\n",
        "\n",
        "\n",
        "\n",
        "            # Q is our predicted Q value.\n",
        "            self.Q = tf.reduce_sum(tf.multiply(self.output, self.actions_))\n",
        "\n",
        "            # The loss is the difference between our predicted Q_values and the Q_target\n",
        "            # Sum(Qtarget - Q)^2\n",
        "            self.loss = tf.reduce_mean(tf.square(self.target_Q - self.Q))\n",
        "\n",
        "            self.optimizer = tf.train.AdamOptimizer(self.learning_rate).minimize(self.loss)"
      ],
      "metadata": {
        "id": "bZqOZO9X3sh1"
      },
      "execution_count": null,
      "outputs": []
    },
    {
      "cell_type": "code",
      "source": [
        "# Reset the graph\n",
        "tf.reset_default_graph()\n",
        "\n",
        "# Instantiate the DQNetwork\n",
        "DQNetwork = DQNetwork(state_size, action_size, learning_rate)"
      ],
      "metadata": {
        "id": "voiPg53l32AD"
      },
      "execution_count": null,
      "outputs": []
    },
    {
      "cell_type": "markdown",
      "source": [
        "Step 6: Experience Replay\n"
      ],
      "metadata": {
        "id": "Q8Rvwbd_33Es"
      }
    },
    {
      "cell_type": "code",
      "source": [
        "class Memory():\n",
        "    def __init__(self, max_size):\n",
        "        self.buffer = deque(maxlen = max_size)\n",
        "\n",
        "    def add(self, experience):\n",
        "        self.buffer.append(experience)\n",
        "\n",
        "    def sample(self, batch_size):\n",
        "        buffer_size = len(self.buffer)\n",
        "        index = np.random.choice(np.arange(buffer_size),\n",
        "                                size = batch_size,\n",
        "                                replace = False)\n",
        "\n",
        "        return [self.buffer[i] for i in index]"
      ],
      "metadata": {
        "id": "HZdl-UrG5tLB"
      },
      "execution_count": null,
      "outputs": []
    },
    {
      "cell_type": "code",
      "source": [
        "# Instantiate memory\n",
        "memory = Memory(max_size = memory_size)\n",
        "for i in range(pretrain_length):\n",
        "    # If it's the first step\n",
        "    if i == 0:\n",
        "        state = env.reset()\n",
        "\n",
        "        state, stacked_frames = stack_frames(stacked_frames, state, True)\n",
        "\n",
        "    # Get the next_state, the rewards, done by taking a random action\n",
        "    choice = random.randint(1,len(possible_actions))-1\n",
        "    action = possible_actions[choice]\n",
        "    next_state, reward, done, _ = env.step(action)\n",
        "\n",
        "    #env.render()\n",
        "\n",
        "    # Stack the frames\n",
        "    next_state, stacked_frames = stack_frames(stacked_frames, next_state, False)\n",
        "\n",
        "\n",
        "    # If the episode is finished (we're dead 3x)\n",
        "    if done:\n",
        "        # We finished the episode\n",
        "        next_state = np.zeros(state.shape)\n",
        "\n",
        "        # Add experience to memory\n",
        "        memory.add((state, action, reward, next_state, done))\n",
        "\n",
        "        # Start a new episode\n",
        "        state = env.reset()\n",
        "\n",
        "        # Stack the frames\n",
        "        state, stacked_frames = stack_frames(stacked_frames, state, True)\n",
        "\n",
        "    else:\n",
        "        # Add experience to memory\n",
        "        memory.add((state, action, reward, next_state, done))\n",
        "\n",
        "        # Our new state is now the next_state\n",
        "        state = next_state"
      ],
      "metadata": {
        "id": "nd0ryJv45vqx"
      },
      "execution_count": null,
      "outputs": []
    },
    {
      "cell_type": "markdown",
      "source": [
        "Step 7: Set up Tensorboard"
      ],
      "metadata": {
        "id": "PzzxNQXa50eq"
      }
    },
    {
      "cell_type": "code",
      "source": [
        "# Setup TensorBoard Writer\n",
        "writer = tf.summary.FileWriter(\"/tensorboard/dqn/1\")\n",
        "\n",
        "## Losses\n",
        "tf.summary.scalar(\"Loss\", DQNetwork.loss)\n",
        "\n",
        "write_op = tf.summary.merge_all()"
      ],
      "metadata": {
        "id": "zxsR5JZr5z3j"
      },
      "execution_count": null,
      "outputs": []
    },
    {
      "cell_type": "markdown",
      "source": [
        "Step 8: Train our Agent"
      ],
      "metadata": {
        "id": "EXqMdK5W561C"
      }
    },
    {
      "cell_type": "code",
      "source": [
        "def predict_action(explore_start, explore_stop, decay_rate, decay_step, state, actions):\n",
        "    ## EPSILON GREEDY STRATEGY\n",
        "    # Choose action a from state s using epsilon greedy.\n",
        "    ## First we randomize a number\n",
        "    exp_exp_tradeoff = np.random.rand()\n",
        "\n",
        "    # Here we'll use an improved version of our epsilon greedy strategy used in Q-learning notebook\n",
        "    explore_probability = explore_stop + (explore_start - explore_stop) * np.exp(-decay_rate * decay_step)\n",
        "\n",
        "    if (explore_probability > exp_exp_tradeoff):\n",
        "        # Make a random action (exploration)\n",
        "        choice = random.randint(1,len(possible_actions))-1\n",
        "        action = possible_actions[choice]\n",
        "\n",
        "    else:\n",
        "        # Get action from Q-network (exploitation)\n",
        "        # Estimate the Qs values state\n",
        "        Qs = sess.run(DQNetwork.output, feed_dict = {DQNetwork.inputs_: state.reshape((1, *state.shape))})\n",
        "\n",
        "        # Take the biggest Q value (= the best action)\n",
        "        choice = np.argmax(Qs)\n",
        "        action = possible_actions[choice]\n",
        "\n",
        "\n",
        "    return action, explore_probability"
      ],
      "metadata": {
        "id": "HXp09wC757eK"
      },
      "execution_count": null,
      "outputs": []
    },
    {
      "cell_type": "code",
      "source": [
        "# Saver will help us to save our model\n",
        "saver = tf.train.Saver()\n",
        "\n",
        "if training == True:\n",
        "    with tf.Session() as sess:\n",
        "        # Initialize the variables\n",
        "        sess.run(tf.global_variables_initializer())\n",
        "\n",
        "        # Initialize the decay rate (that will use to reduce epsilon)\n",
        "        decay_step = 0\n",
        "\n",
        "        for episode in range(total_episodes):\n",
        "            # Set step to 0\n",
        "            step = 0\n",
        "\n",
        "            # Initialize the rewards of the episode\n",
        "            episode_rewards = []\n",
        "\n",
        "            # Make a new episode and observe the first state\n",
        "            state = env.reset()\n",
        "\n",
        "            # Remember that stack frame function also call our preprocess function.\n",
        "            state, stacked_frames = stack_frames(stacked_frames, state, True)\n",
        "\n",
        "            while step < max_steps:\n",
        "                step += 1\n",
        "\n",
        "                #Increase decay_step\n",
        "                decay_step +=1\n",
        "\n",
        "                # Predict the action to take and take it\n",
        "                action, explore_probability = predict_action(explore_start, explore_stop, decay_rate, decay_step, state, possible_actions)\n",
        "\n",
        "                #Perform the action and get the next_state, reward, and done information\n",
        "                next_state, reward, done, _ = env.step(action)\n",
        "\n",
        "                if episode_render:\n",
        "                    env.render()\n",
        "\n",
        "                # Add the reward to total reward\n",
        "                episode_rewards.append(reward)\n",
        "\n",
        "                # If the game is finished\n",
        "                if done:\n",
        "                    # The episode ends so no next state\n",
        "                    next_state = np.zeros((110,84), dtype=np.int)\n",
        "\n",
        "                    next_state, stacked_frames = stack_frames(stacked_frames, next_state, False)\n",
        "\n",
        "                    # Set step = max_steps to end the episode\n",
        "                    step = max_steps\n",
        "\n",
        "                    # Get the total reward of the episode\n",
        "                    total_reward = np.sum(episode_rewards)\n",
        "\n",
        "                    print('Episode: {}'.format(episode),\n",
        "                                  'Total reward: {}'.format(total_reward),\n",
        "                                  'Explore P: {:.4f}'.format(explore_probability),\n",
        "                                'Training Loss {:.4f}'.format(loss))\n",
        "\n",
        "                    rewards_list.append((episode, total_reward))\n",
        "\n",
        "                    # Store transition <st,at,rt+1,st+1> in memory D\n",
        "                    memory.add((state, action, reward, next_state, done))\n",
        "\n",
        "                else:\n",
        "                    # Stack the frame of the next_state\n",
        "                    next_state, stacked_frames = stack_frames(stacked_frames, next_state, False)\n",
        "\n",
        "                    # Add experience to memory\n",
        "                    memory.add((state, action, reward, next_state, done))\n",
        "\n",
        "                    # st+1 is now our current state\n",
        "                    state = next_state\n",
        "\n",
        "\n",
        "                ### LEARNING PART\n",
        "                # Obtain random mini-batch from memory\n",
        "                batch = memory.sample(batch_size)\n",
        "                states_mb = np.array([each[0] for each in batch], ndmin=3)\n",
        "                actions_mb = np.array([each[1] for each in batch])\n",
        "                rewards_mb = np.array([each[2] for each in batch])\n",
        "                next_states_mb = np.array([each[3] for each in batch], ndmin=3)\n",
        "                dones_mb = np.array([each[4] for each in batch])\n",
        "\n",
        "                target_Qs_batch = []\n",
        "\n",
        "                # Get Q values for next_state\n",
        "                Qs_next_state = sess.run(DQNetwork.output, feed_dict = {DQNetwork.inputs_: next_states_mb})\n",
        "\n",
        "                # Set Q_target = r if the episode ends at s+1, otherwise set Q_target = r + gamma*maxQ(s', a')\n",
        "                for i in range(0, len(batch)):\n",
        "                    terminal = dones_mb[i]\n",
        "\n",
        "                    # If we are in a terminal state, only equals reward\n",
        "                    if terminal:\n",
        "                        target_Qs_batch.append(rewards_mb[i])\n",
        "\n",
        "                    else:\n",
        "                        target = rewards_mb[i] + gamma * np.max(Qs_next_state[i])\n",
        "                        target_Qs_batch.append(target)\n",
        "\n",
        "\n",
        "                targets_mb = np.array([each for each in target_Qs_batch])\n",
        "\n",
        "                loss, _ = sess.run([DQNetwork.loss, DQNetwork.optimizer],\n",
        "                                        feed_dict={DQNetwork.inputs_: states_mb,\n",
        "                                                   DQNetwork.target_Q: targets_mb,\n",
        "                                                   DQNetwork.actions_: actions_mb})\n",
        "\n",
        "                # Write TF Summaries\n",
        "                summary = sess.run(write_op, feed_dict={DQNetwork.inputs_: states_mb,\n",
        "                                                       DQNetwork.target_Q: targets_mb,\n",
        "                                                       DQNetwork.actions_: actions_mb})\n",
        "                writer.add_summary(summary, episode)\n",
        "                writer.flush()\n",
        "\n",
        "            # Save model every 5 episodes\n",
        "            if episode % 5 == 0:\n",
        "                save_path = saver.save(sess, \"./models/model.ckpt\")\n",
        "                print(\"Model Saved\")"
      ],
      "metadata": {
        "id": "QzxOss_C6A7R"
      },
      "execution_count": null,
      "outputs": []
    },
    {
      "cell_type": "markdown",
      "source": [
        "Step 9: Test and Watch our Agent play"
      ],
      "metadata": {
        "id": "o3pMvLFy6E9J"
      }
    },
    {
      "cell_type": "code",
      "source": [
        "with tf.Session() as sess:\n",
        "    total_test_rewards = []\n",
        "\n",
        "    # Load the model\n",
        "    saver.restore(sess, \"./models/model.ckpt\")\n",
        "\n",
        "    for episode in range(1):\n",
        "        total_rewards = 0\n",
        "\n",
        "        state = env.reset()\n",
        "        state, stacked_frames = stack_frames(stacked_frames, state, True)\n",
        "\n",
        "        print(\"****************************************************\")\n",
        "        print(\"EPISODE \", episode)\n",
        "\n",
        "        while True:\n",
        "            # Reshape the state\n",
        "            state = state.reshape((1, *state_size))\n",
        "            # Get action from Q-network\n",
        "            # Estimate the Qs values state\n",
        "            Qs = sess.run(DQNetwork.output, feed_dict = {DQNetwork.inputs_: state})\n",
        "\n",
        "            # Take the biggest Q value (= the best action)\n",
        "            choice = np.argmax(Qs)\n",
        "            action = possible_actions[choice]\n",
        "\n",
        "            #Perform the action and get the next_state, reward, and done information\n",
        "            next_state, reward, done, _ = env.step(action)\n",
        "            env.render()\n",
        "\n",
        "            total_rewards += reward\n",
        "\n",
        "            if done:\n",
        "                print (\"Score\", total_rewards)\n",
        "                total_test_rewards.append(total_rewards)\n",
        "                break\n",
        "\n",
        "\n",
        "            next_state, stacked_frames = stack_frames(stacked_frames, next_state, False)\n",
        "            state = next_state\n",
        "\n",
        "    env.close()"
      ],
      "metadata": {
        "id": "q-XKjy4Y6Gzy"
      },
      "execution_count": null,
      "outputs": []
    }
  ]
}